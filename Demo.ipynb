{
 "cells": [
  {
   "cell_type": "markdown",
   "metadata": {
    "id": "nGD5Fiomn6Pq"
   },
   "source": [
    "### View Rendered Notebook [Here](https://laughing-goldstine-368323.netlify.app/gallery/demo) \n",
    "### _(Note rendering is slow due to the size of the dataset. For the same notebook with a smaller subset of the data see [mini-demo](https://laughing-goldstine-368323.netlify.app/gallery/demo-mini))_\n",
    "# Demo of PDL's Companies Dataset\n",
    "\n",
    "This is a quick notebook to demonstrate some of the things you can do with the PDL's companies dataset. We'll use a subset of the dataset containing just the companies based within the US (to limit resource usage and keep this notebook somewhat interactive). Below is an overview of the things we'll cover in this notebook:\n",
    "\n",
    "## Overview\n",
    "0. Brief Exploratory Analysis \n",
    "1. Show a map of the top 10 largest companies in the US\n",
    "2. Show the relationship between company age and company size\n",
    "3. Show the most common industry in pittsburgh"
   ]
  },
  {
   "cell_type": "markdown",
   "metadata": {
    "id": "zpc4Qloun6Pq"
   },
   "source": [
    "# Getting setup\n",
    "\n",
    "First let's get our environment setup and load in the necessary modules and data"
   ]
  },
  {
   "cell_type": "code",
   "execution_count": null,
   "metadata": {
    "id": "1P4W3_5Tn6Pq"
   },
   "outputs": [],
   "source": [
    "# Imports\n",
    "import os\n",
    "import json\n",
    "import pandas as pd\n",
    "import numpy as np \n",
    "import folium\n",
    "import matplotlib.pyplot as plt\n",
    "import plotly\n",
    "import plotly.graph_objects as go\n",
    "import plotly.express as px\n",
    "\n",
    "# Dataset path (subset of full dataset containing first 1.8 million US-based companies)\n",
    "# We'll take just a subset of this dataset in the next cell\n",
    "data_dir = \"data\"\n",
    "dataset_file = \"2mm_companies_us.csv\"\n",
    "dataset_path = os.path.join( data_dir, dataset_file )"
   ]
  },
  {
   "cell_type": "code",
   "execution_count": null,
   "metadata": {
    "colab": {
     "base_uri": "https://localhost:8080/",
     "height": 1000
    },
    "id": "5xUTbjCXn6Pq",
    "outputId": "4c10d825-0b42-4e1f-daf4-e8b8c1a2cf33"
   },
   "outputs": [],
   "source": [
    "# Read dataset (note: this is could take ~30 sec to load)\n",
    "df = pd.read_csv(dataset_path, error_bad_lines=False)\n",
    "df"
   ]
  },
  {
   "cell_type": "markdown",
   "metadata": {
    "id": "qapOzzOsszJx"
   },
   "source": [
    "# 0. Exploratory Analysis\n",
    "\n",
    "Next, let's take a quick look at the dataset to better understand the data it contains"
   ]
  },
  {
   "cell_type": "markdown",
   "metadata": {
    "id": "1qpfr7MHs_81"
   },
   "source": [
    "#### Number of Companies in Each Industry"
   ]
  },
  {
   "cell_type": "code",
   "execution_count": null,
   "metadata": {
    "id": "0wTF6v32s2rv"
   },
   "outputs": [],
   "source": [
    "fig = px.histogram(df, x='industry', title=\"Number of Companies in Each Industry\")\n",
    "\n",
    "fig.update_xaxes(title_text = \"\")\n",
    "fig.update_yaxes(title_text = \"Count\")\n",
    "\n",
    "fig.show()"
   ]
  },
  {
   "cell_type": "markdown",
   "metadata": {
    "id": "RtHvtXxI7lZi"
   },
   "source": [
    "Seems like the most common industries represented in this dataset are:\n",
    "1. Construction\n",
    "2. Information Technology and Services\n",
    "3. Marketing and Advertising\n"
   ]
  },
  {
   "cell_type": "markdown",
   "metadata": {
    "id": "6Ryzz370uaYD"
   },
   "source": [
    "#### Number of Companies Founded Each Year"
   ]
  },
  {
   "cell_type": "code",
   "execution_count": null,
   "metadata": {
    "id": "ax33Be3VtOO1"
   },
   "outputs": [],
   "source": [
    "fig = px.histogram(df, x='year founded', range_x=(1800,2020), nbins=220, \n",
    "                   title='Number of Companies Founded Each Year')\n",
    "\n",
    "fig.update_xaxes(title_text = \"Year Founded\")\n",
    "fig.update_yaxes(title_text = \"Count\")\n",
    "\n",
    "fig.show()"
   ]
  },
  {
   "cell_type": "markdown",
   "metadata": {
    "id": "PdpIu_Xb6v3d"
   },
   "source": [
    "It's interesting to note that the majority of companies in the dataset were founded between 2010-2015; after that there is noticeably less data for more recent companies."
   ]
  },
  {
   "cell_type": "markdown",
   "metadata": {
    "id": "wx4fv-EN4wNj"
   },
   "source": [
    "#### Number of Companies in Each US City"
   ]
  },
  {
   "cell_type": "code",
   "execution_count": null,
   "metadata": {
    "id": "NitWuH2fn6Pq"
   },
   "outputs": [],
   "source": [
    "us_df = df[ df['locality'].notnull() ] # remove missing localities\n",
    "us_df = us_df[ us_df['locality'].str.contains('united states') ] \n",
    "us_counts = us_df['locality'].value_counts() \n",
    "\n",
    "fig = plotly.subplots.make_subplots(rows=1, cols=2)\n",
    "\n",
    "fig.add_trace(\n",
    "    go.Scatter(x=np.arange(us_counts.shape[0]), y=us_counts, \n",
    "               hovertext=us_counts.index, mode='markers', name=\"Count\"), \n",
    "    row=1, col=1\n",
    ")\n",
    "\n",
    "fig.add_trace(\n",
    "    go.Scatter(x=np.arange(us_counts.shape[0]), y=np.cumsum(us_counts)/us_counts.sum(),\n",
    "               hovertext=us_counts.index, mode='markers', name='Cumulative Density'), \n",
    "    row=1, col=2\n",
    ")\n",
    "\n",
    "fig.update_layout(title_text=\"Number of Companies in Each US City\")\n",
    "fig.update_layout(hovermode='closest')\n",
    "fig.update_xaxes(title_text = \"Locality Index\")\n",
    "fig.update_yaxes(title_text = \"Count\", row=1, col=1)\n",
    "fig.update_yaxes(title_text = \"Cumulative Densitry\", row=1, col=2)\n",
    "fig.show()\n",
    "\n",
    "print(\"Total Number of US Companies: {}\".format(us_counts.sum()))"
   ]
  },
  {
   "cell_type": "markdown",
   "metadata": {
    "id": "GW9j80S1Ok6B"
   },
   "source": [
    "This figure shows the Power Law Distribution of companies within US cities (where most of the companies are concentrated in relatively few cities). "
   ]
  },
  {
   "cell_type": "markdown",
   "metadata": {
    "id": "akMAC0UdCyMp"
   },
   "source": [
    "While we're at it, let's also see what this looks like geographically."
   ]
  },
  {
   "cell_type": "code",
   "execution_count": null,
   "metadata": {
    "id": "Q9khbhyQ35RI"
   },
   "outputs": [],
   "source": [
    "# Read latlon lookup table\n",
    "locality_to_latlon = {}\n",
    "lookup_table_file = 'locality_to_latlon.json'\n",
    "lookup_table_path = os.path.join( data_dir, lookup_table_file )\n",
    "with open(lookup_table_path, 'r', encoding='utf-8') as f:\n",
    "    locality_to_latlon = json.load(f)\n",
    "\n",
    "# The ranges for number of companies in a city \n",
    "# (each city will fall into one of these ranges)\n",
    "sizes = [(0, 500), (500, 1000), (1000, 5000), (5000, 10000), (10000, 100000)]\n",
    "scale = 100\n",
    "\n",
    "# Create a dataframe with all the relevant info for plotting\n",
    "df_plot = pd.DataFrame(columns=['locality', 'lat', 'lon', 'size', 'sizeClass'])\n",
    "\n",
    "df_plot['locality'] = us_counts.index\n",
    "df_plot['size'] = us_counts.values\n",
    "df_plot['sizeClass'] = np.digitize(df_plot['size'], bins=[size[0] for size in sizes])\n",
    "\n",
    "def lookupLatLon(row):\n",
    "  locality = row['locality']\n",
    "  if locality in locality_to_latlon:\n",
    "    lat = locality_to_latlon[row['locality']][0]\n",
    "    lon = locality_to_latlon[row['locality']][1]\n",
    "    return (lat, lon)\n",
    "  else:\n",
    "    return (0, 0)\n",
    "\n",
    "df_plot['lat'] = df_plot.apply( lambda row: lookupLatLon(row)[0], axis=1 )\n",
    "df_plot['lon'] = df_plot.apply( lambda row: lookupLatLon(row)[1], axis=1 )\n",
    "\n",
    "\n",
    "# Plot our map\n",
    "fig = go.Figure()\n",
    "\n",
    "colors = [\"royalblue\",\"lightseagreen\",\"orange\",\"purple\",\"crimson\"]\n",
    "\n",
    "for ii in range(len(sizes))[::-1]: # Plot largest sizes first\n",
    "    df_sub = df_plot[ df_plot['sizeClass'] == ii+1]#.iloc[:10000]\n",
    "\n",
    "    fig.add_trace(go.Scattergeo(\n",
    "        locationmode = 'USA-states',\n",
    "        lon = df_sub['lon'],\n",
    "        lat = df_sub['lat'],\n",
    "        text = df_sub[['locality', 'size']],\n",
    "        marker = dict(\n",
    "            size = df_sub['size']/scale,\n",
    "            color = colors[ii],\n",
    "            line_color='rgb(40,40,40)',\n",
    "            line_width=0.5,\n",
    "            sizemode = 'area'\n",
    "        ),\n",
    "        name = '{0} - {1}'.format(sizes[ii][0],sizes[ii][1]))\n",
    "    )\n",
    "\n",
    "fig.update_layout(\n",
    "        title_text = 'Number of Companies in US Cities',\n",
    "        showlegend = True,\n",
    "        width=1000, height=1000,\n",
    "        geo = dict(\n",
    "            scope = 'usa',\n",
    "        )\n",
    "    )\n",
    "\n",
    "fig.show()"
   ]
  },
  {
   "cell_type": "markdown",
   "metadata": {
    "id": "7cZvm-PJaBZm"
   },
   "source": [
    "# 1. Map the 10 Largest Companies in the US"
   ]
  },
  {
   "cell_type": "markdown",
   "metadata": {
    "id": "8pmu_RFe0PUr"
   },
   "source": [
    "Now as our first real task, let's find the 10 largest companies in the US and plot them on a map."
   ]
  },
  {
   "cell_type": "code",
   "execution_count": null,
   "metadata": {
    "id": "FdhpzQ1fn6Pq"
   },
   "outputs": [],
   "source": [
    "# Map the 10 Largest Companies in the US\n",
    "\n",
    "# Sort companies by size\n",
    "us_companies = df[ df['country'] == 'united states']\n",
    "company_sizes = us_companies['total employee estimate'].values\n",
    "sorted_idxs = np.argsort(company_sizes)[::-1] # descending order\n",
    "sorted_idxs = sorted_idxs[:10] # top 10\n",
    "\n",
    "# Plot these companies on a map\n",
    "m = folium.Map(location=[39.8282, -98.5795], zoom_start=4)\n",
    "\n",
    "count = 1\n",
    "print(\"The 10 Largest US Companies are:\")\n",
    "\n",
    "for idx, company in us_companies.iloc [ sorted_idxs ].iterrows():\n",
    "    name = company['name']\n",
    "    locality = company['locality']\n",
    "    size = int ( company['total employee estimate'] )\n",
    "    if locality in locality_to_latlon:\n",
    "        latlon = locality_to_latlon[locality]\n",
    "        latlon = [float(x) for x in latlon]\n",
    "        folium.Circle(location=latlon,\n",
    "                      popup=\"{}. {} - {} [{} employees]\".format(count, name, locality, size),\n",
    "                      radius=size/5,\n",
    "                      fill=True,\n",
    "                   ).add_to(m)\n",
    "    else:\n",
    "        print(\"Could not find latlon for {}\".format(name))\n",
    "\n",
    "    print(\"  {}. {} - {} [{} employees]\".format(count, name, locality, size))\n",
    "    count += 1\n",
    "\n",
    "# Show map:\n",
    "m"
   ]
  },
  {
   "cell_type": "markdown",
   "metadata": {
    "id": "aEVk9Gmj0apq"
   },
   "source": [
    "# 2. Relationship between Company Age and Company Size"
   ]
  },
  {
   "cell_type": "markdown",
   "metadata": {
    "id": "AifMZR6c0lKj"
   },
   "source": [
    "Next, let's take a look and see if we can find any relationship between the age of a company and it's size."
   ]
  },
  {
   "cell_type": "code",
   "execution_count": null,
   "metadata": {
    "id": "fMAEDfKon6Ps"
   },
   "outputs": [],
   "source": [
    "# Plot company size as a function of it's age:\n",
    "\n",
    "# A little data cleaning to get remove missing/null values\n",
    "clean_df = df[ df['year founded'].notnull() ]\n",
    "clean_df = clean_df[ clean_df['total employee estimate'].notnull() ]\n",
    "\n",
    "# Plot\n",
    "fig = px.scatter(clean_df, x='year founded', y='total employee estimate', \n",
    "                 hover_name='name', \n",
    "                 title=\"Company Age vs Size\",\n",
    "                 labels={\"year founded\": \"Year Founded\", \"total employee estimate\": \"Total Employee Estimate\"})\n",
    "\n",
    "fig.update_xaxes(range=[1800, 2020])\n",
    "\n",
    "fig.show()"
   ]
  },
  {
   "cell_type": "markdown",
   "metadata": {},
   "source": [
    "Perhaps unsurprisingly, there doesn't seem to be any correlation between a company's size and the year in which it was founded. In fact, what seems to stand out the most are the outliers, where unexpectedly large companies seem to pop up with equal probability across the years. "
   ]
  },
  {
   "cell_type": "markdown",
   "metadata": {
    "id": "CHJWBolBax0z"
   },
   "source": [
    "# 3. Comparing Industries Between Cities"
   ]
  },
  {
   "cell_type": "markdown",
   "metadata": {
    "id": "Kppt2OUF1VpJ"
   },
   "source": [
    "Now, let's look at the how industries vary across different cities. We know from our [previous cell](https://colab.research.google.com/drive/1K-08RG_jgfyDvLrkHzcfOHwwCLANE6hz#scrollTo=wx4fv-EN4wNj&line=1&uniqifier=1) that Chicago, San Francisco, and Houston have a similar number of companies, so let's see how they are distributed across industries."
   ]
  },
  {
   "cell_type": "code",
   "execution_count": null,
   "metadata": {
    "id": "0geSMQaAn6Ps"
   },
   "outputs": [],
   "source": [
    "sf_companies = df [ df['locality'] == 'san francisco, california, united states']\n",
    "chi_companies = df[ df['locality'] == 'chicago, illinois, united states' ]\n",
    "hou_companies = df[ df['locality'] == 'houston, texas, united states' ]\n",
    "\n",
    "fig = go.Figure()\n",
    "\n",
    "go.Histogram( )\n",
    "\n",
    "fig.add_trace(go.Histogram(x=hou_companies['industry'], name='HOU'))\n",
    "fig.add_trace(go.Histogram(x=sf_companies['industry'], name='SF'))\n",
    "fig.add_trace(go.Histogram(x=chi_companies['industry'], name='CHI'))\n",
    "\n",
    "\n",
    "# Overlay both histograms\n",
    "fig.update_layout(barmode='overlay')\n",
    "# Reduce opacity to see both histograms\n",
    "fig.update_traces(opacity=0.75)\n",
    "fig.show()\n"
   ]
  },
  {
   "cell_type": "markdown",
   "metadata": {
    "id": "8FXgnYJC2gCw"
   },
   "source": [
    "From this figure, it seems like Houston stands out for it's oil & energy as well as it's construction industries, while Chicago seems to have more companies in it's marketing & advertising as well as it's financial services industries. Unsurprisingly, San Francisco dominates in its internet, computer software, and information technology industries."
   ]
  },
  {
   "cell_type": "markdown",
   "metadata": {
    "id": "52SXZ_h1DVtK"
   },
   "source": [
    "# Wrapping Up\n",
    "\n",
    "As you can see, there are a lot of interesting findings and useful insights that can be found by looking into this dataset. Hopefully, this gives you some ideas!"
   ]
  }
 ],
 "metadata": {
  "colab": {
   "collapsed_sections": [],
   "name": "Demo.ipynb",
   "provenance": []
  },
  "kernelspec": {
   "display_name": "Python 3",
   "language": "python",
   "name": "python3"
  },
  "language_info": {
   "codemirror_mode": {
    "name": "ipython",
    "version": 3
   },
   "file_extension": ".py",
   "mimetype": "text/x-python",
   "name": "python",
   "nbconvert_exporter": "python",
   "pygments_lexer": "ipython3",
   "version": "3.6.9"
  }
 },
 "nbformat": 4,
 "nbformat_minor": 4
}
