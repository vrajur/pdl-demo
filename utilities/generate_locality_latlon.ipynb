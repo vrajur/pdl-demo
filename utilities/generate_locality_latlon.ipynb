{
 "cells": [
  {
   "cell_type": "code",
   "execution_count": 2,
   "metadata": {},
   "outputs": [
    {
     "name": "stdout",
     "output_type": "stream",
     "text": [
      "96245/96245 \tsuccess: 90274 \t fail: 5971\n",
      "Done\n",
      "Number of localities successfully found: 90274\n",
      "Number of localities not found: 5971\n",
      "Took 5e+04 seconds\n"
     ]
    }
   ],
   "source": [
    "# Generate latlon table (very slow)\n",
    "import time\n",
    "import json\n",
    "import pandas as pd\n",
    "\n",
    "from IPython.display import display, clear_output\n",
    "\n",
    "from geopy.geocoders import Nominatim\n",
    "from geopy.extra.rate_limiter import RateLimiter\n",
    "\n",
    "# Dataset path\n",
    "dataset_path = \"7mm_companies.csv\"\n",
    "\n",
    "# Read dataset\n",
    "df = pd.read_csv(dataset_path)\n",
    "\n",
    "# Set rate limiting\n",
    "geolocator = Nominatim(user_agent='myapplication')\n",
    "geocode = RateLimiter(geolocator.geocode, min_delay_seconds=2)\n",
    "\n",
    "# Parse all localities\n",
    "localities = df['locality'].unique()\n",
    "\n",
    "\n",
    "count = 0\n",
    "pass_count = 0\n",
    "fail_count = 0\n",
    "locality_to_latlon = {}\n",
    "failed_localities = []\n",
    "\n",
    "t0 = time.time()\n",
    "\n",
    "# Look up coordinates for all localities:\n",
    "for locality in localities:\n",
    "    count += 1\n",
    "    try:\n",
    "        location = geolocator.geocode(locality)\n",
    "        latlon = (location.raw['lat'], location.raw['lon'])\n",
    "        locality_to_latlon[locality] = latlon\n",
    "        pass_count += 1\n",
    "    except:\n",
    "        failed_localities.append(locality)\n",
    "        fail_count += 1\n",
    "        \n",
    "    clear_output(wait=True)\n",
    "    print(\"{}/{} \\tsuccess: {} \\t fail: {}\".format(count, localities.shape[0], pass_count, fail_count))\n",
    "    \n",
    "# Save to successful lookups:\n",
    "with open('locality_to_latlon.json', 'w', encoding='utf-8') as f:\n",
    "    json.dump(locality_to_latlon, f, ensure_ascii=False)\n",
    "\n",
    "# Save failed lookups:\n",
    "with open(\"failed_localities.txt\", 'w') as f:\n",
    "    for locality in failed_localities:\n",
    "        f.write(\"{}\\n\".format(locality))\n",
    "        \n",
    "t1 = time.time()\n",
    "\n",
    "# Print summary\n",
    "print(\"Done\")\n",
    "print(\"Number of localities successfully found: {}\".format(pass_count))\n",
    "print(\"Number of localities not found: {}\".format(fail_count))\n",
    "print(\"Took {:0.2} seconds\".format(t1-t0))"
   ]
  },
  {
   "cell_type": "code",
   "execution_count": null,
   "metadata": {},
   "outputs": [],
   "source": []
  }
 ],
 "metadata": {
  "kernelspec": {
   "display_name": "Python 3",
   "language": "python",
   "name": "python3"
  },
  "language_info": {
   "codemirror_mode": {
    "name": "ipython",
    "version": 3
   },
   "file_extension": ".py",
   "mimetype": "text/x-python",
   "name": "python",
   "nbconvert_exporter": "python",
   "pygments_lexer": "ipython3",
   "version": "3.6.9"
  }
 },
 "nbformat": 4,
 "nbformat_minor": 4
}
